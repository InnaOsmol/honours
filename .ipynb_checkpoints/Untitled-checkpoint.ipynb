{
 "cells": [
  {
   "cell_type": "code",
   "execution_count": 1,
   "metadata": {},
   "outputs": [],
   "source": [
    "import numpy as np\n",
    "import pandas as pd\n",
    "import seaborn as sns\n",
    "import matplotlib.pyplot as plt\n",
    "from matplotlib.ticker import MaxNLocator\n",
    "import missingno as msno\n",
    "from sklearn.linear_model import LinearRegression\n",
    "import statsmodels.api as sm\n",
    "import statsmodels.formula.api as smf\n",
    "import random\n",
    "plt.rcParams.update({'figure.max_open_warning': 0})\n",
    "\n",
    "%config InlineBackend.figure_format = 'retina'\n",
    "%matplotlib inline"
   ]
  },
  {
   "cell_type": "code",
   "execution_count": 10,
   "metadata": {},
   "outputs": [],
   "source": [
    "data = pd.read_csv('./paramstable.csv')"
   ]
  },
  {
   "cell_type": "code",
   "execution_count": 11,
   "metadata": {},
   "outputs": [
    {
     "data": {
      "text/html": [
       "<div>\n",
       "<style scoped>\n",
       "    .dataframe tbody tr th:only-of-type {\n",
       "        vertical-align: middle;\n",
       "    }\n",
       "\n",
       "    .dataframe tbody tr th {\n",
       "        vertical-align: top;\n",
       "    }\n",
       "\n",
       "    .dataframe thead th {\n",
       "        text-align: right;\n",
       "    }\n",
       "</style>\n",
       "<table border=\"1\" class=\"dataframe\">\n",
       "  <thead>\n",
       "    <tr style=\"text-align: right;\">\n",
       "      <th></th>\n",
       "      <th>Species</th>\n",
       "      <th>shift</th>\n",
       "      <th>Poleward range edge shift (m/year)</th>\n",
       "      <th>Equatorward range edge shift (m/year)</th>\n",
       "      <th>height</th>\n",
       "      <th>Protection status Queensland</th>\n",
       "      <th>Protection status New South Wales</th>\n",
       "      <th>Protection status higher in Queensland (y/n)</th>\n",
       "      <th>plantnet</th>\n",
       "    </tr>\n",
       "  </thead>\n",
       "  <tbody>\n",
       "    <tr>\n",
       "      <th>0</th>\n",
       "      <td>Acacia baeuerlenii</td>\n",
       "      <td>2611.043734</td>\n",
       "      <td>-303.958748</td>\n",
       "      <td>2460.870000</td>\n",
       "      <td>3.0</td>\n",
       "      <td>Least concern</td>\n",
       "      <td>Not listed</td>\n",
       "      <td>NaN</td>\n",
       "      <td>NaN</td>\n",
       "    </tr>\n",
       "    <tr>\n",
       "      <th>1</th>\n",
       "      <td>Acacia floydii</td>\n",
       "      <td>-145.534214</td>\n",
       "      <td>180.375000</td>\n",
       "      <td>-4902.647996</td>\n",
       "      <td>4.5</td>\n",
       "      <td>Not listed</td>\n",
       "      <td>Not listed</td>\n",
       "      <td>NaN</td>\n",
       "      <td>NaN</td>\n",
       "    </tr>\n",
       "    <tr>\n",
       "      <th>2</th>\n",
       "      <td>Acacia macnuttiana</td>\n",
       "      <td>-1047.671270</td>\n",
       "      <td>-2619.600000</td>\n",
       "      <td>-50.260118</td>\n",
       "      <td>3.0</td>\n",
       "      <td>Vulnerable</td>\n",
       "      <td>Vulnerable</td>\n",
       "      <td>NaN</td>\n",
       "      <td>NaN</td>\n",
       "    </tr>\n",
       "    <tr>\n",
       "      <th>3</th>\n",
       "      <td>Acacia ruppii</td>\n",
       "      <td>-190.431639</td>\n",
       "      <td>68.466067</td>\n",
       "      <td>39.758651</td>\n",
       "      <td>3.0</td>\n",
       "      <td>Endangered</td>\n",
       "      <td>Endangered</td>\n",
       "      <td>NaN</td>\n",
       "      <td>NaN</td>\n",
       "    </tr>\n",
       "    <tr>\n",
       "      <th>4</th>\n",
       "      <td>Acacia torringtonensis</td>\n",
       "      <td>-29.152085</td>\n",
       "      <td>-280.515870</td>\n",
       "      <td>576.982571</td>\n",
       "      <td>2.0</td>\n",
       "      <td>Not listed</td>\n",
       "      <td>Not listed</td>\n",
       "      <td>NaN</td>\n",
       "      <td>NaN</td>\n",
       "    </tr>\n",
       "  </tbody>\n",
       "</table>\n",
       "</div>"
      ],
      "text/plain": [
       "                  Species        shift  Poleward range edge shift (m/year)  \\\n",
       "0      Acacia baeuerlenii  2611.043734                         -303.958748   \n",
       "1          Acacia floydii  -145.534214                          180.375000   \n",
       "2      Acacia macnuttiana -1047.671270                        -2619.600000   \n",
       "3           Acacia ruppii  -190.431639                           68.466067   \n",
       "4  Acacia torringtonensis   -29.152085                         -280.515870   \n",
       "\n",
       "   Equatorward range edge shift (m/year)  height Protection status Queensland  \\\n",
       "0                            2460.870000     3.0                Least concern   \n",
       "1                           -4902.647996     4.5                   Not listed   \n",
       "2                             -50.260118     3.0                   Vulnerable   \n",
       "3                              39.758651     3.0                   Endangered   \n",
       "4                             576.982571     2.0                   Not listed   \n",
       "\n",
       "  Protection status New South Wales  \\\n",
       "0                        Not listed   \n",
       "1                        Not listed   \n",
       "2                        Vulnerable   \n",
       "3                        Endangered   \n",
       "4                        Not listed   \n",
       "\n",
       "   Protection status higher in Queensland (y/n)  plantnet  \n",
       "0                                           NaN       NaN  \n",
       "1                                           NaN       NaN  \n",
       "2                                           NaN       NaN  \n",
       "3                                           NaN       NaN  \n",
       "4                                           NaN       NaN  "
      ]
     },
     "execution_count": 11,
     "metadata": {},
     "output_type": "execute_result"
    }
   ],
   "source": [
    "data.head()"
   ]
  },
  {
   "cell_type": "code",
   "execution_count": 12,
   "metadata": {},
   "outputs": [],
   "source": [
    "results = smf.ols('shift ~ height', data=data).fit()"
   ]
  },
  {
   "cell_type": "code",
   "execution_count": 13,
   "metadata": {},
   "outputs": [
    {
     "name": "stdout",
     "output_type": "stream",
     "text": [
      "                            OLS Regression Results                            \n",
      "==============================================================================\n",
      "Dep. Variable:                  shift   R-squared:                       0.009\n",
      "Model:                            OLS   Adj. R-squared:                 -0.005\n",
      "Method:                 Least Squares   F-statistic:                    0.6622\n",
      "Date:                Thu, 05 Nov 2020   Prob (F-statistic):              0.419\n",
      "Time:                        11:15:24   Log-Likelihood:                -589.83\n",
      "No. Observations:                  72   AIC:                             1184.\n",
      "Df Residuals:                      70   BIC:                             1188.\n",
      "Df Model:                           1                                         \n",
      "Covariance Type:            nonrobust                                         \n",
      "==============================================================================\n",
      "                 coef    std err          t      P>|t|      [0.025      0.975]\n",
      "------------------------------------------------------------------------------\n",
      "Intercept   -131.9994    129.570     -1.019      0.312    -390.419     126.420\n",
      "height       -13.7633     16.913     -0.814      0.419     -47.495      19.969\n",
      "==============================================================================\n",
      "Omnibus:                       19.794   Durbin-Watson:                   1.863\n",
      "Prob(Omnibus):                  0.000   Jarque-Bera (JB):              138.658\n",
      "Skew:                           0.098   Prob(JB):                     7.78e-31\n",
      "Kurtosis:                       9.796   Cond. No.                         9.56\n",
      "==============================================================================\n",
      "\n",
      "Warnings:\n",
      "[1] Standard Errors assume that the covariance matrix of the errors is correctly specified.\n"
     ]
    }
   ],
   "source": [
    "print(results.summary())"
   ]
  },
  {
   "cell_type": "raw",
   "metadata": {},
   "source": []
  },
  {
   "cell_type": "code",
   "execution_count": 16,
   "metadata": {},
   "outputs": [
    {
     "data": {
      "text/plain": [
       "<seaborn.axisgrid.FacetGrid at 0x7f9363654070>"
      ]
     },
     "execution_count": 16,
     "metadata": {},
     "output_type": "execute_result"
    },
    {
     "data": {
      "image/png": "[encoded data removed]",
      "text/plain": [
       "<Figure size 360x360 with 1 Axes>"
      ]
     },
     "metadata": {
      "image/png": {
       "height": 351,
       "width": 352
      },
      "needs_background": "light"
     },
     "output_type": "display_data"
    }
   ],
   "source": [
    "sns.lmplot(x=\"height\", y=\"shift\", data=data\n",
    "          )"
   ]
  },
  {
   "cell_type": "code",
   "execution_count": null,
   "metadata": {},
   "outputs": [],
   "source": []
  },
  {
   "cell_type": "code",
   "execution_count": null,
   "metadata": {},
   "outputs": [],
   "source": []
  }
 ],
 "metadata": {
  "kernelspec": {
   "display_name": "Python 3",
   "language": "python",
   "name": "python3"
  },
  "language_info": {
   "codemirror_mode": {
    "name": "ipython",
    "version": 3
   },
   "file_extension": ".py",
   "mimetype": "text/x-python",
   "name": "python",
   "nbconvert_exporter": "python",
   "pygments_lexer": "ipython3",
   "version": "3.8.3"
  }
 },
 "nbformat": 4,
 "nbformat_minor": 4
}
