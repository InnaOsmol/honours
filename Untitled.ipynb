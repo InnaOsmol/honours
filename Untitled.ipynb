{
 "cells": [
  {
   "cell_type": "code",
   "execution_count": 88,
   "metadata": {},
   "outputs": [],
   "source": [
    "import numpy as np\n",
    "import pandas as pd\n",
    "import seaborn as sns\n",
    "import matplotlib.pyplot as plt\n",
    "from matplotlib.ticker import MaxNLocator\n",
    "import missingno as msno\n",
    "from sklearn.linear_model import LinearRegression\n",
    "import statsmodels.api as sm\n",
    "import statsmodels.formula.api as smf\n",
    "import random\n",
    "plt.rcParams.update({'figure.max_open_warning': 0})\n",
    "\n",
    "%config InlineBackend.figure_format = 'retina'\n",
    "%matplotlib inline"
   ]
  },
  {
   "cell_type": "code",
   "execution_count": 89,
   "metadata": {},
   "outputs": [],
   "source": [
    "data = pd.read_csv('./paramstable.csv')"
   ]
  },
  {
   "cell_type": "code",
   "execution_count": 90,
   "metadata": {},
   "outputs": [
    {
     "data": {
      "text/html": [
       "<div>\n",
       "<style scoped>\n",
       "    .dataframe tbody tr th:only-of-type {\n",
       "        vertical-align: middle;\n",
       "    }\n",
       "\n",
       "    .dataframe tbody tr th {\n",
       "        vertical-align: top;\n",
       "    }\n",
       "\n",
       "    .dataframe thead th {\n",
       "        text-align: right;\n",
       "    }\n",
       "</style>\n",
       "<table border=\"1\" class=\"dataframe\">\n",
       "  <thead>\n",
       "    <tr style=\"text-align: right;\">\n",
       "      <th></th>\n",
       "      <th>Species</th>\n",
       "      <th>shift</th>\n",
       "      <th>Poleward range edge shift (m/year)</th>\n",
       "      <th>Equatorward range edge shift (m/year)</th>\n",
       "      <th>height</th>\n",
       "      <th>Protection status Queensland</th>\n",
       "      <th>Protection status New South Wales</th>\n",
       "      <th>Protection status higher in Queensland (y/n)</th>\n",
       "      <th>plantnet</th>\n",
       "    </tr>\n",
       "  </thead>\n",
       "  <tbody>\n",
       "    <tr>\n",
       "      <th>0</th>\n",
       "      <td>Acacia baeuerlenii</td>\n",
       "      <td>2611.043734</td>\n",
       "      <td>-303.958748</td>\n",
       "      <td>2460.870000</td>\n",
       "      <td>3.00</td>\n",
       "      <td>Least concern</td>\n",
       "      <td>Not listed</td>\n",
       "      <td>NaN</td>\n",
       "      <td>NaN</td>\n",
       "    </tr>\n",
       "    <tr>\n",
       "      <th>1</th>\n",
       "      <td>Acacia floydii</td>\n",
       "      <td>-145.534214</td>\n",
       "      <td>180.375000</td>\n",
       "      <td>-4902.647996</td>\n",
       "      <td>4.50</td>\n",
       "      <td>Not listed</td>\n",
       "      <td>Not listed</td>\n",
       "      <td>NaN</td>\n",
       "      <td>NaN</td>\n",
       "    </tr>\n",
       "    <tr>\n",
       "      <th>2</th>\n",
       "      <td>Acacia macnuttiana</td>\n",
       "      <td>-1047.671270</td>\n",
       "      <td>-2619.600000</td>\n",
       "      <td>-50.260118</td>\n",
       "      <td>3.00</td>\n",
       "      <td>Vulnerable</td>\n",
       "      <td>Vulnerable</td>\n",
       "      <td>NaN</td>\n",
       "      <td>NaN</td>\n",
       "    </tr>\n",
       "    <tr>\n",
       "      <th>3</th>\n",
       "      <td>Acacia ruppii</td>\n",
       "      <td>-190.431639</td>\n",
       "      <td>68.466067</td>\n",
       "      <td>39.758651</td>\n",
       "      <td>3.00</td>\n",
       "      <td>Endangered</td>\n",
       "      <td>Endangered</td>\n",
       "      <td>NaN</td>\n",
       "      <td>NaN</td>\n",
       "    </tr>\n",
       "    <tr>\n",
       "      <th>4</th>\n",
       "      <td>Acacia torringtonensis</td>\n",
       "      <td>-29.152085</td>\n",
       "      <td>-280.515870</td>\n",
       "      <td>576.982571</td>\n",
       "      <td>2.00</td>\n",
       "      <td>Not listed</td>\n",
       "      <td>Not listed</td>\n",
       "      <td>NaN</td>\n",
       "      <td>NaN</td>\n",
       "    </tr>\n",
       "    <tr>\n",
       "      <th>5</th>\n",
       "      <td>Acronychia suberosa</td>\n",
       "      <td>-60.614134</td>\n",
       "      <td>-346.714905</td>\n",
       "      <td>3.866701</td>\n",
       "      <td>20.00</td>\n",
       "      <td>Least concern</td>\n",
       "      <td>Not listed</td>\n",
       "      <td>NaN</td>\n",
       "      <td>NaN</td>\n",
       "    </tr>\n",
       "    <tr>\n",
       "      <th>6</th>\n",
       "      <td>Acrothamnus melaleucoides</td>\n",
       "      <td>-1500.493369</td>\n",
       "      <td>-2454.735875</td>\n",
       "      <td>-43.932321</td>\n",
       "      <td>1.00</td>\n",
       "      <td>Least concern</td>\n",
       "      <td>Not listed</td>\n",
       "      <td>NaN</td>\n",
       "      <td>NaN</td>\n",
       "    </tr>\n",
       "    <tr>\n",
       "      <th>7</th>\n",
       "      <td>Alexfloydia repens</td>\n",
       "      <td>-547.738989</td>\n",
       "      <td>-2007.487780</td>\n",
       "      <td>17.094925</td>\n",
       "      <td>0.25</td>\n",
       "      <td>Not listed</td>\n",
       "      <td>Endangered</td>\n",
       "      <td>NaN</td>\n",
       "      <td>NaN</td>\n",
       "    </tr>\n",
       "    <tr>\n",
       "      <th>8</th>\n",
       "      <td>Allocasuarina rupicola</td>\n",
       "      <td>361.307116</td>\n",
       "      <td>40.982710</td>\n",
       "      <td>575.658336</td>\n",
       "      <td>3.00</td>\n",
       "      <td>Near threatened</td>\n",
       "      <td>Not listed</td>\n",
       "      <td>NaN</td>\n",
       "      <td>NaN</td>\n",
       "    </tr>\n",
       "    <tr>\n",
       "      <th>9</th>\n",
       "      <td>Angophora robur</td>\n",
       "      <td>-273.842979</td>\n",
       "      <td>-74.292215</td>\n",
       "      <td>-558.157173</td>\n",
       "      <td>10.00</td>\n",
       "      <td>Vulnerable</td>\n",
       "      <td>Vulnerable</td>\n",
       "      <td>NaN</td>\n",
       "      <td>NaN</td>\n",
       "    </tr>\n",
       "  </tbody>\n",
       "</table>\n",
       "</div>"
      ],
      "text/plain": [
       "                     Species        shift  Poleward range edge shift (m/year)  \\\n",
       "0         Acacia baeuerlenii  2611.043734                         -303.958748   \n",
       "1             Acacia floydii  -145.534214                          180.375000   \n",
       "2         Acacia macnuttiana -1047.671270                        -2619.600000   \n",
       "3              Acacia ruppii  -190.431639                           68.466067   \n",
       "4     Acacia torringtonensis   -29.152085                         -280.515870   \n",
       "5        Acronychia suberosa   -60.614134                         -346.714905   \n",
       "6  Acrothamnus melaleucoides -1500.493369                        -2454.735875   \n",
       "7         Alexfloydia repens  -547.738989                        -2007.487780   \n",
       "8     Allocasuarina rupicola   361.307116                           40.982710   \n",
       "9            Angophora robur  -273.842979                          -74.292215   \n",
       "\n",
       "   Equatorward range edge shift (m/year)  height Protection status Queensland  \\\n",
       "0                            2460.870000    3.00                Least concern   \n",
       "1                           -4902.647996    4.50                   Not listed   \n",
       "2                             -50.260118    3.00                   Vulnerable   \n",
       "3                              39.758651    3.00                   Endangered   \n",
       "4                             576.982571    2.00                   Not listed   \n",
       "5                               3.866701   20.00                Least concern   \n",
       "6                             -43.932321    1.00                Least concern   \n",
       "7                              17.094925    0.25                   Not listed   \n",
       "8                             575.658336    3.00              Near threatened   \n",
       "9                            -558.157173   10.00                   Vulnerable   \n",
       "\n",
       "  Protection status New South Wales  \\\n",
       "0                        Not listed   \n",
       "1                        Not listed   \n",
       "2                        Vulnerable   \n",
       "3                        Endangered   \n",
       "4                        Not listed   \n",
       "5                        Not listed   \n",
       "6                        Not listed   \n",
       "7                        Endangered   \n",
       "8                        Not listed   \n",
       "9                        Vulnerable   \n",
       "\n",
       "   Protection status higher in Queensland (y/n)  plantnet  \n",
       "0                                           NaN       NaN  \n",
       "1                                           NaN       NaN  \n",
       "2                                           NaN       NaN  \n",
       "3                                           NaN       NaN  \n",
       "4                                           NaN       NaN  \n",
       "5                                           NaN       NaN  \n",
       "6                                           NaN       NaN  \n",
       "7                                           NaN       NaN  \n",
       "8                                           NaN       NaN  \n",
       "9                                           NaN       NaN  "
      ]
     },
     "execution_count": 90,
     "metadata": {},
     "output_type": "execute_result"
    }
   ],
   "source": [
    "data.head(10)"
   ]
  },
  {
   "cell_type": "code",
   "execution_count": 91,
   "metadata": {},
   "outputs": [
    {
     "name": "stdout",
     "output_type": "stream",
     "text": [
      "<class 'pandas.core.frame.DataFrame'>\n",
      "RangeIndex: 72 entries, 0 to 71\n",
      "Data columns (total 9 columns):\n",
      " #   Column                                        Non-Null Count  Dtype  \n",
      "---  ------                                        --------------  -----  \n",
      " 0   Species                                       72 non-null     object \n",
      " 1   shift                                         72 non-null     float64\n",
      " 2   Poleward range edge shift (m/year)            72 non-null     float64\n",
      " 3   Equatorward range edge shift (m/year)         72 non-null     float64\n",
      " 4   height                                        72 non-null     float64\n",
      " 5   Protection status Queensland                  72 non-null     object \n",
      " 6   Protection status New South Wales             72 non-null     object \n",
      " 7   Protection status higher in Queensland (y/n)  0 non-null      float64\n",
      " 8   plantnet                                      0 non-null      float64\n",
      "dtypes: float64(6), object(3)\n",
      "memory usage: 5.2+ KB\n"
     ]
    }
   ],
   "source": [
    "data.info()"
   ]
  },
  {
   "cell_type": "code",
   "execution_count": 92,
   "metadata": {},
   "outputs": [
    {
     "data": {
      "text/plain": [
       "0      3.0\n",
       "1      4.5\n",
       "2      3.0\n",
       "3      3.0\n",
       "4      2.0\n",
       "      ... \n",
       "67     7.0\n",
       "68     4.0\n",
       "69    12.0\n",
       "70     1.0\n",
       "71     1.0\n",
       "Name: height, Length: 72, dtype: float64"
      ]
     },
     "execution_count": 92,
     "metadata": {},
     "output_type": "execute_result"
    }
   ],
   "source": [
    "data.height"
   ]
  },
  {
   "cell_type": "code",
   "execution_count": 94,
   "metadata": {},
   "outputs": [],
   "source": [
    "data['abs_shift'] = data[\"shift\"].apply(np.abs)"
   ]
  },
  {
   "cell_type": "code",
   "execution_count": 115,
   "metadata": {},
   "outputs": [],
   "source": [
    "data['abs_shift_log'] = data[\"abs_shift\"].apply(np.log)"
   ]
  },
  {
   "cell_type": "code",
   "execution_count": 118,
   "metadata": {},
   "outputs": [
    {
     "data": {
      "text/plain": [
       "0.718612378"
      ]
     },
     "execution_count": 118,
     "metadata": {},
     "output_type": "execute_result"
    }
   ],
   "source": [
    "data.abs_shift.min()"
   ]
  },
  {
   "cell_type": "code",
   "execution_count": 96,
   "metadata": {},
   "outputs": [],
   "source": [
    "data['log_height'] = data[\"height\"].apply(np.log)"
   ]
  },
  {
   "cell_type": "code",
   "execution_count": 97,
   "metadata": {},
   "outputs": [
    {
     "data": {
      "text/plain": [
       "-3.2188758248682006"
      ]
     },
     "execution_count": 97,
     "metadata": {},
     "output_type": "execute_result"
    }
   ],
   "source": [
    "data.log_height.min()"
   ]
  },
  {
   "cell_type": "code",
   "execution_count": 116,
   "metadata": {},
   "outputs": [],
   "source": [
    "results = smf.ols('abs_shift_log ~ log_height', data=data).fit()"
   ]
  },
  {
   "cell_type": "code",
   "execution_count": 117,
   "metadata": {},
   "outputs": [
    {
     "name": "stdout",
     "output_type": "stream",
     "text": [
      "                            OLS Regression Results                            \n",
      "==============================================================================\n",
      "Dep. Variable:          abs_shift_log   R-squared:                       0.003\n",
      "Model:                            OLS   Adj. R-squared:                 -0.011\n",
      "Method:                 Least Squares   F-statistic:                    0.2385\n",
      "Date:                Wed, 11 Nov 2020   Prob (F-statistic):              0.627\n",
      "Time:                        17:51:25   Log-Likelihood:                -135.07\n",
      "No. Observations:                  72   AIC:                             274.1\n",
      "Df Residuals:                      70   BIC:                             278.7\n",
      "Df Model:                           1                                         \n",
      "Covariance Type:            nonrobust                                         \n",
      "==============================================================================\n",
      "                 coef    std err          t      P>|t|      [0.025      0.975]\n",
      "------------------------------------------------------------------------------\n",
      "Intercept      5.3607      0.217     24.691      0.000       4.928       5.794\n",
      "log_height     0.0701      0.144      0.488      0.627      -0.216       0.356\n",
      "==============================================================================\n",
      "Omnibus:                       16.292   Durbin-Watson:                   1.507\n",
      "Prob(Omnibus):                  0.000   Jarque-Bera (JB):               20.995\n",
      "Skew:                          -0.974   Prob(JB):                     2.76e-05\n",
      "Kurtosis:                       4.789   Cond. No.                         2.00\n",
      "==============================================================================\n",
      "\n",
      "Warnings:\n",
      "[1] Standard Errors assume that the covariance matrix of the errors is correctly specified.\n"
     ]
    }
   ],
   "source": [
    "print(results.summary())"
   ]
  },
  {
   "cell_type": "code",
   "execution_count": 100,
   "metadata": {},
   "outputs": [],
   "source": [
    "intercept = results.params[0]\n",
    "coef = results.params[1]"
   ]
  },
  {
   "cell_type": "code",
   "execution_count": 101,
   "metadata": {},
   "outputs": [
    {
     "data": {
      "text/plain": [
       "0     2611.043734\n",
       "1     -145.534214\n",
       "2    -1047.671270\n",
       "3     -190.431639\n",
       "4      -29.152085\n",
       "         ...     \n",
       "67     -40.374046\n",
       "68    -174.492938\n",
       "69     244.375952\n",
       "70      31.773721\n",
       "71       1.576001\n",
       "Name: shift, Length: 72, dtype: float64"
      ]
     },
     "execution_count": 101,
     "metadata": {},
     "output_type": "execute_result"
    }
   ],
   "source": [
    "data['shift']"
   ]
  },
  {
   "cell_type": "code",
   "execution_count": 102,
   "metadata": {},
   "outputs": [],
   "source": [
    "def get_y(b,m):\n",
    "    return m*x+b"
   ]
  },
  {
   "cell_type": "code",
   "execution_count": 114,
   "metadata": {},
   "outputs": [
    {
     "data": {
      "text/plain": [
       "0.718612378"
      ]
     },
     "execution_count": 114,
     "metadata": {},
     "output_type": "execute_result"
    }
   ],
   "source": [
    "data.abs_shift.min()"
   ]
  },
  {
   "cell_type": "code",
   "execution_count": 119,
   "metadata": {},
   "outputs": [
    {
     "data": {
      "image/png": "[encoded data removed]",
      "text/plain": [
       "<Figure size 432x288 with 1 Axes>"
      ]
     },
     "metadata": {
      "image/png": {
       "height": 299,
       "width": 408
      },
      "needs_background": "light"
     },
     "output_type": "display_data"
    }
   ],
   "source": [
    "from matplotlib.ticker import ScalarFormatter\n",
    "from matplotlib.ticker import FuncFormatter\n",
    "# make plot\n",
    "fig, ax = plt.subplots(1,1)\n",
    "\n",
    "# add scatterplot\n",
    "ax.scatter(data.height, data['abs_shift'], color='orange')\n",
    "# make top and right plot borders invisible\n",
    "ax.spines['top'].set_visible(False)\n",
    "ax.spines['right'].set_visible(False)\n",
    "# define x and y for line of best fit using OLS coefficients\n",
    "x = np.arange(data.height.min(), data.height.max(), 0.1)\n",
    "y = get_y(intercept, coef)\n",
    "# plot line of best fit\n",
    "# ax.plot(x, y, color='black')\n",
    "# add labels\n",
    "plt.xlabel(\"Species maximum height (m) [log scale]\", fontsize=12, labelpad=15)\n",
    "plt.ylabel(\"Mean rate of range shift (m/year) [log scale]\", fontsize=12, labelpad=15)\n",
    "plt.xscale('log')\n",
    "plt.yscale('log')\n",
    "# format numbers for axes\n",
    "# ax.xaxis.set_major_formatter(ScalarFormatter())\n",
    "for axis in [ax.xaxis, ax.yaxis]:\n",
    "    formatter = FuncFormatter(lambda y, _: '{:.16g}'.format(y))\n",
    "    axis.set_major_formatter(formatter)\n",
    "plt.show()"
   ]
  },
  {
   "cell_type": "code",
   "execution_count": 120,
   "metadata": {},
   "outputs": [],
   "source": [
    "fig.savefig('speedheight.svg', format='svg', dpi=1200, pad_inches=0, bbox_inches='tight')"
   ]
  },
  {
   "cell_type": "code",
   "execution_count": 16,
   "metadata": {},
   "outputs": [
    {
     "data": {
      "text/plain": [
       "<seaborn.axisgrid.FacetGrid at 0x7f9363654070>"
      ]
     },
     "execution_count": 16,
     "metadata": {},
     "output_type": "execute_result"
    },
    {
     "data": {
      "image/png": "[encoded data removed]",
      "text/plain": [
       "<Figure size 360x360 with 1 Axes>"
      ]
     },
     "metadata": {
      "image/png": {
       "height": 351,
       "width": 352
      },
      "needs_background": "light"
     },
     "output_type": "display_data"
    }
   ],
   "source": [
    "sns.lmplot(x=\"height\", y=\"shift\", data=data\n",
    "          )"
   ]
  },
  {
   "cell_type": "code",
   "execution_count": null,
   "metadata": {},
   "outputs": [],
   "source": []
  },
  {
   "cell_type": "code",
   "execution_count": null,
   "metadata": {},
   "outputs": [],
   "source": []
  }
 ],
 "metadata": {
  "kernelspec": {
   "display_name": "Python 3",
   "language": "python",
   "name": "python3"
  },
  "language_info": {
   "codemirror_mode": {
    "name": "ipython",
    "version": 3
   },
   "file_extension": ".py",
   "mimetype": "text/x-python",
   "name": "python",
   "nbconvert_exporter": "python",
   "pygments_lexer": "ipython3",
   "version": "3.8.3"
  }
 },
 "nbformat": 4,
 "nbformat_minor": 4
}
