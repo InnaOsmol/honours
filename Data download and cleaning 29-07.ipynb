{
 "cells": [
  {
   "cell_type": "code",
   "execution_count": 1,
   "metadata": {},
   "outputs": [],
   "source": [
    "import numpy as np\n",
    "import pandas as pd\n",
    "import matplotlib.pyplot as plt\n",
    "%matplotlib inline\n",
    "pd.set_option('display.max_columns', None)"
   ]
  },
  {
   "cell_type": "code",
   "execution_count": 2,
   "metadata": {},
   "outputs": [],
   "source": [
    "data = pd.read_csv('./lifeform-plants-study-area/data.csv')"
   ]
  },
  {
   "cell_type": "code",
   "execution_count": 3,
   "metadata": {},
   "outputs": [
    {
     "data": {
      "text/plain": [
       "(1226310, 58)"
      ]
     },
     "execution_count": 3,
     "metadata": {},
     "output_type": "execute_result"
    }
   ],
   "source": [
    "data.shape"
   ]
  },
  {
   "cell_type": "code",
   "execution_count": 4,
   "metadata": {},
   "outputs": [],
   "source": [
    "# ALA has some dodgy records that are not actually plants or not vascular plants (which is what i want), so i'm just filtering to remove them here."
   ]
  },
  {
   "cell_type": "code",
   "execution_count": 5,
   "metadata": {},
   "outputs": [
    {
     "data": {
      "text/html": [
       "<div>\n",
       "<style scoped>\n",
       "    .dataframe tbody tr th:only-of-type {\n",
       "        vertical-align: middle;\n",
       "    }\n",
       "\n",
       "    .dataframe tbody tr th {\n",
       "        vertical-align: top;\n",
       "    }\n",
       "\n",
       "    .dataframe thead th {\n",
       "        text-align: right;\n",
       "    }\n",
       "</style>\n",
       "<table border=\"1\" class=\"dataframe\">\n",
       "  <thead>\n",
       "    <tr style=\"text-align: right;\">\n",
       "      <th></th>\n",
       "      <th>Record ID</th>\n",
       "      <th>Catalogue Number</th>\n",
       "      <th>Taxon Concept GUID</th>\n",
       "      <th>Scientific Name - original</th>\n",
       "      <th>Vernacular name - original</th>\n",
       "      <th>Scientific Name</th>\n",
       "      <th>Taxon Rank</th>\n",
       "      <th>Vernacular name</th>\n",
       "      <th>Kingdom</th>\n",
       "      <th>Phylum</th>\n",
       "      <th>Class</th>\n",
       "      <th>Order</th>\n",
       "      <th>Family</th>\n",
       "      <th>Genus</th>\n",
       "      <th>Species</th>\n",
       "      <th>Subspecies</th>\n",
       "      <th>Data Resource ID</th>\n",
       "      <th>Data Resource Name</th>\n",
       "      <th>Institution ID</th>\n",
       "      <th>Institution</th>\n",
       "      <th>Collection ID</th>\n",
       "      <th>Collection</th>\n",
       "      <th>Licence</th>\n",
       "      <th>Institution Code</th>\n",
       "      <th>Collection Code</th>\n",
       "      <th>Locality</th>\n",
       "      <th>Latitude - original</th>\n",
       "      <th>Longitude - original</th>\n",
       "      <th>Geodetic datum - original</th>\n",
       "      <th>Latitude</th>\n",
       "      <th>Longitude</th>\n",
       "      <th>Coordinate Precision</th>\n",
       "      <th>Coordinate Uncertainty in Metres</th>\n",
       "      <th>Country - parsed</th>\n",
       "      <th>State - parsed</th>\n",
       "      <th>Local Government Areas 2011</th>\n",
       "      <th>IMCRA 4 Regions</th>\n",
       "      <th>IBRA 7 Regions</th>\n",
       "      <th>Minimum elevation in meters</th>\n",
       "      <th>Maximum elevation in meters</th>\n",
       "      <th>Minimum depth in meters</th>\n",
       "      <th>Maximum depth in meters</th>\n",
       "      <th>Individual count</th>\n",
       "      <th>Collector</th>\n",
       "      <th>Year</th>\n",
       "      <th>Month</th>\n",
       "      <th>Day</th>\n",
       "      <th>Event Date - parsed</th>\n",
       "      <th>Verbatim event date</th>\n",
       "      <th>Basis Of Record - original</th>\n",
       "      <th>Basis Of Record</th>\n",
       "      <th>Occurrence status</th>\n",
       "      <th>Sex</th>\n",
       "      <th>Preparations</th>\n",
       "      <th>Outlier for layer</th>\n",
       "      <th>Taxonomic Quality</th>\n",
       "      <th>Location Quality</th>\n",
       "      <th>CAPAD 2010 Terrestrial</th>\n",
       "    </tr>\n",
       "  </thead>\n",
       "  <tbody>\n",
       "    <tr>\n",
       "      <th>0</th>\n",
       "      <td>ffff8ea0-eeb1-4cc5-b439-caed45b17392</td>\n",
       "      <td>NSW 651513</td>\n",
       "      <td>https://id.biodiversity.org.au/node/apni/2913645</td>\n",
       "      <td>Pimelea curviflora var. divergens Threlfall</td>\n",
       "      <td>NaN</td>\n",
       "      <td>Pimelea curviflora var. divergens</td>\n",
       "      <td>variety</td>\n",
       "      <td>NaN</td>\n",
       "      <td>Plantae</td>\n",
       "      <td>Charophyta</td>\n",
       "      <td>Equisetopsida</td>\n",
       "      <td>Malvales</td>\n",
       "      <td>Thymelaeaceae</td>\n",
       "      <td>Pimelea</td>\n",
       "      <td>Pimelea curviflora</td>\n",
       "      <td>Pimelea curviflora var. divergens</td>\n",
       "      <td>dr376</td>\n",
       "      <td>MEL AVH data</td>\n",
       "      <td>in50</td>\n",
       "      <td>The Royal Botanic Gardens &amp; Domain Trust</td>\n",
       "      <td>co54</td>\n",
       "      <td>National Herbarium of New South Wales</td>\n",
       "      <td>CC-BY 4.0 (Int)</td>\n",
       "      <td>NSW</td>\n",
       "      <td>NSW</td>\n",
       "      <td>Glen Innes.</td>\n",
       "      <td>-29.720000</td>\n",
       "      <td>151.720000</td>\n",
       "      <td>NaN</td>\n",
       "      <td>-29.720000</td>\n",
       "      <td>151.720000</td>\n",
       "      <td>NaN</td>\n",
       "      <td>5000.0</td>\n",
       "      <td>Australia</td>\n",
       "      <td>New South Wales</td>\n",
       "      <td>Glen Innes Severn (A)</td>\n",
       "      <td>NaN</td>\n",
       "      <td>New England Tablelands</td>\n",
       "      <td>NaN</td>\n",
       "      <td>NaN</td>\n",
       "      <td>NaN</td>\n",
       "      <td>NaN</td>\n",
       "      <td>NaN</td>\n",
       "      <td>Deane, H.</td>\n",
       "      <td>1885.0</td>\n",
       "      <td>4.0</td>\n",
       "      <td>NaN</td>\n",
       "      <td>1885-04-01</td>\n",
       "      <td>NaN</td>\n",
       "      <td>PreservedSpecimen</td>\n",
       "      <td>PreservedSpecimen</td>\n",
       "      <td>present</td>\n",
       "      <td>NaN</td>\n",
       "      <td>sheet</td>\n",
       "      <td>NaN</td>\n",
       "      <td>True</td>\n",
       "      <td>True</td>\n",
       "      <td>NaN</td>\n",
       "    </tr>\n",
       "    <tr>\n",
       "      <th>1</th>\n",
       "      <td>fffed8dd-3303-4861-9ae5-e515f669a781</td>\n",
       "      <td>BRI AQ0422383</td>\n",
       "      <td>https://id.biodiversity.org.au/taxon/apni/5128...</td>\n",
       "      <td>Teucrium junceum (A.Cunn. ex Walp.) Kattari &amp; ...</td>\n",
       "      <td>NaN</td>\n",
       "      <td>Teucrium junceum</td>\n",
       "      <td>species</td>\n",
       "      <td>NaN</td>\n",
       "      <td>Plantae</td>\n",
       "      <td>Charophyta</td>\n",
       "      <td>Equisetopsida</td>\n",
       "      <td>Lamiales</td>\n",
       "      <td>Lamiaceae</td>\n",
       "      <td>Teucrium</td>\n",
       "      <td>Teucrium junceum</td>\n",
       "      <td>NaN</td>\n",
       "      <td>dr2287</td>\n",
       "      <td>bri_avh</td>\n",
       "      <td>in42</td>\n",
       "      <td>Queensland Department of Environment and Science</td>\n",
       "      <td>co49</td>\n",
       "      <td>Queensland Herbarium</td>\n",
       "      <td>NaN</td>\n",
       "      <td>BRI</td>\n",
       "      <td>Herbrecs</td>\n",
       "      <td>SUNDOWN NP</td>\n",
       "      <td>-28.916667</td>\n",
       "      <td>151.583333</td>\n",
       "      <td>AGD66</td>\n",
       "      <td>-28.915212</td>\n",
       "      <td>151.584156</td>\n",
       "      <td>NaN</td>\n",
       "      <td>16000.0</td>\n",
       "      <td>Australia</td>\n",
       "      <td>Queensland</td>\n",
       "      <td>Southern Downs (R)</td>\n",
       "      <td>NaN</td>\n",
       "      <td>Nandewar</td>\n",
       "      <td>NaN</td>\n",
       "      <td>NaN</td>\n",
       "      <td>NaN</td>\n",
       "      <td>NaN</td>\n",
       "      <td>NaN</td>\n",
       "      <td>Sharpe, P.R.</td>\n",
       "      <td>1985.0</td>\n",
       "      <td>4.0</td>\n",
       "      <td>6.0</td>\n",
       "      <td>1985-04-06</td>\n",
       "      <td>1985-04-06</td>\n",
       "      <td>PreservedSpecimen</td>\n",
       "      <td>PreservedSpecimen</td>\n",
       "      <td>present</td>\n",
       "      <td>NaN</td>\n",
       "      <td>sheet</td>\n",
       "      <td>NaN</td>\n",
       "      <td>True</td>\n",
       "      <td>True</td>\n",
       "      <td>Sundown</td>\n",
       "    </tr>\n",
       "    <tr>\n",
       "      <th>2</th>\n",
       "      <td>fffebfcb-1f80-4ade-9b9b-83475af6151c</td>\n",
       "      <td>SCOS1605240S</td>\n",
       "      <td>https://id.biodiversity.org.au/node/apni/2898873</td>\n",
       "      <td>Synoum glandulosum subsp. glandulosum</td>\n",
       "      <td>Scentless Rosewood</td>\n",
       "      <td>Synoum glandulosum subsp. glandulosum</td>\n",
       "      <td>subspecies</td>\n",
       "      <td>NaN</td>\n",
       "      <td>Plantae</td>\n",
       "      <td>Charophyta</td>\n",
       "      <td>Equisetopsida</td>\n",
       "      <td>Sapindales</td>\n",
       "      <td>Meliaceae</td>\n",
       "      <td>Synoum</td>\n",
       "      <td>Synoum glandulosum</td>\n",
       "      <td>Synoum glandulosum subsp. glandulosum</td>\n",
       "      <td>dr368</td>\n",
       "      <td>OEH Atlas of NSW Wildlife</td>\n",
       "      <td>NaN</td>\n",
       "      <td>NaN</td>\n",
       "      <td>NaN</td>\n",
       "      <td>NaN</td>\n",
       "      <td>CC-BY 4.0 (Int)</td>\n",
       "      <td>NSW Dept of Planning, Industry and Environment</td>\n",
       "      <td>BioNet Atlas of NSW Wildlife</td>\n",
       "      <td>locality withheld</td>\n",
       "      <td>-30.902514</td>\n",
       "      <td>152.873047</td>\n",
       "      <td>GDA94</td>\n",
       "      <td>-30.902514</td>\n",
       "      <td>152.873047</td>\n",
       "      <td>NaN</td>\n",
       "      <td>10.0</td>\n",
       "      <td>Australia</td>\n",
       "      <td>New South Wales</td>\n",
       "      <td>Kempsey (A)</td>\n",
       "      <td>NaN</td>\n",
       "      <td>NSW North Coast</td>\n",
       "      <td>15.0</td>\n",
       "      <td>15.0</td>\n",
       "      <td>NaN</td>\n",
       "      <td>NaN</td>\n",
       "      <td>NaN</td>\n",
       "      <td>OJXK98101602</td>\n",
       "      <td>2016.0</td>\n",
       "      <td>4.0</td>\n",
       "      <td>28.0</td>\n",
       "      <td>2016-04-28</td>\n",
       "      <td>NaN</td>\n",
       "      <td>HumanObservation</td>\n",
       "      <td>HumanObservation</td>\n",
       "      <td>present</td>\n",
       "      <td>NaN</td>\n",
       "      <td>NaN</td>\n",
       "      <td>NaN</td>\n",
       "      <td>True</td>\n",
       "      <td>True</td>\n",
       "      <td>NaN</td>\n",
       "    </tr>\n",
       "    <tr>\n",
       "      <th>3</th>\n",
       "      <td>fffce8d8-6a83-41e6-8c49-1e2e4c9392c8</td>\n",
       "      <td>BRI AQ0708425</td>\n",
       "      <td>NZOR-6-1194</td>\n",
       "      <td>Audouinella</td>\n",
       "      <td>NaN</td>\n",
       "      <td>Audouinella</td>\n",
       "      <td>genus</td>\n",
       "      <td>NaN</td>\n",
       "      <td>Plantae</td>\n",
       "      <td>Rhodophyta</td>\n",
       "      <td>Florideophyceae</td>\n",
       "      <td>Acrochaetiales</td>\n",
       "      <td>Acrochaetiaceae</td>\n",
       "      <td>Audouinella</td>\n",
       "      <td>NaN</td>\n",
       "      <td>NaN</td>\n",
       "      <td>dr2287</td>\n",
       "      <td>bri_avh</td>\n",
       "      <td>in42</td>\n",
       "      <td>Queensland Department of Environment and Science</td>\n",
       "      <td>co49</td>\n",
       "      <td>Queensland Herbarium</td>\n",
       "      <td>NaN</td>\n",
       "      <td>BRI</td>\n",
       "      <td>Herbrecs</td>\n",
       "      <td>WHITE WATER CK BALLOW DISTRICT (COLL. NO. 742.2)</td>\n",
       "      <td>-28.275000</td>\n",
       "      <td>152.625000</td>\n",
       "      <td>AGD66</td>\n",
       "      <td>-28.273540</td>\n",
       "      <td>152.625803</td>\n",
       "      <td>NaN</td>\n",
       "      <td>1600.0</td>\n",
       "      <td>Australia</td>\n",
       "      <td>Queensland</td>\n",
       "      <td>Scenic Rim (R)</td>\n",
       "      <td>NaN</td>\n",
       "      <td>South Eastern Queensland</td>\n",
       "      <td>NaN</td>\n",
       "      <td>NaN</td>\n",
       "      <td>NaN</td>\n",
       "      <td>NaN</td>\n",
       "      <td>NaN</td>\n",
       "      <td>Cribb, A.B.</td>\n",
       "      <td>1973.0</td>\n",
       "      <td>4.0</td>\n",
       "      <td>21.0</td>\n",
       "      <td>1973-04-21</td>\n",
       "      <td>1973-04-21</td>\n",
       "      <td>PreservedSpecimen</td>\n",
       "      <td>PreservedSpecimen</td>\n",
       "      <td>present</td>\n",
       "      <td>NaN</td>\n",
       "      <td>sheet</td>\n",
       "      <td>NaN</td>\n",
       "      <td>True</td>\n",
       "      <td>True</td>\n",
       "      <td>Mount Barney</td>\n",
       "    </tr>\n",
       "    <tr>\n",
       "      <th>4</th>\n",
       "      <td>fffbc9c8-d4ca-43c7-9c4b-dcfa8ad1e601</td>\n",
       "      <td>SPJGI3874747</td>\n",
       "      <td>https://id.biodiversity.org.au/node/apni/2902186</td>\n",
       "      <td>Symplocos thwaitesii</td>\n",
       "      <td>Buff Hazelwood</td>\n",
       "      <td>Symplocos thwaitesii</td>\n",
       "      <td>species</td>\n",
       "      <td>NaN</td>\n",
       "      <td>Plantae</td>\n",
       "      <td>Charophyta</td>\n",
       "      <td>Equisetopsida</td>\n",
       "      <td>Ericales</td>\n",
       "      <td>Symplocaceae</td>\n",
       "      <td>Symplocos</td>\n",
       "      <td>Symplocos thwaitesii</td>\n",
       "      <td>NaN</td>\n",
       "      <td>dr368</td>\n",
       "      <td>OEH Atlas of NSW Wildlife</td>\n",
       "      <td>NaN</td>\n",
       "      <td>NaN</td>\n",
       "      <td>NaN</td>\n",
       "      <td>NaN</td>\n",
       "      <td>CC-BY 4.0 (Int)</td>\n",
       "      <td>NSW Dept of Planning, Industry and Environment</td>\n",
       "      <td>BioNet Atlas of NSW Wildlife</td>\n",
       "      <td>locality withheld</td>\n",
       "      <td>-28.977786</td>\n",
       "      <td>153.404673</td>\n",
       "      <td>GDA94</td>\n",
       "      <td>-28.977786</td>\n",
       "      <td>153.404673</td>\n",
       "      <td>NaN</td>\n",
       "      <td>100.0</td>\n",
       "      <td>Australia</td>\n",
       "      <td>New South Wales</td>\n",
       "      <td>Ballina (A)</td>\n",
       "      <td>NaN</td>\n",
       "      <td>South Eastern Queensland</td>\n",
       "      <td>NaN</td>\n",
       "      <td>NaN</td>\n",
       "      <td>NaN</td>\n",
       "      <td>NaN</td>\n",
       "      <td>NaN</td>\n",
       "      <td>WESTJ-NR;ODMP1002282N</td>\n",
       "      <td>2006.0</td>\n",
       "      <td>4.0</td>\n",
       "      <td>10.0</td>\n",
       "      <td>2006-04-10</td>\n",
       "      <td>NaN</td>\n",
       "      <td>HumanObservation</td>\n",
       "      <td>HumanObservation</td>\n",
       "      <td>present</td>\n",
       "      <td>NaN</td>\n",
       "      <td>NaN</td>\n",
       "      <td>NaN</td>\n",
       "      <td>True</td>\n",
       "      <td>True</td>\n",
       "      <td>Tuckean</td>\n",
       "    </tr>\n",
       "  </tbody>\n",
       "</table>\n",
       "</div>"
      ],
      "text/plain": [
       "                              Record ID Catalogue Number  \\\n",
       "0  ffff8ea0-eeb1-4cc5-b439-caed45b17392       NSW 651513   \n",
       "1  fffed8dd-3303-4861-9ae5-e515f669a781    BRI AQ0422383   \n",
       "2  fffebfcb-1f80-4ade-9b9b-83475af6151c     SCOS1605240S   \n",
       "3  fffce8d8-6a83-41e6-8c49-1e2e4c9392c8    BRI AQ0708425   \n",
       "4  fffbc9c8-d4ca-43c7-9c4b-dcfa8ad1e601     SPJGI3874747   \n",
       "\n",
       "                                  Taxon Concept GUID  \\\n",
       "0   https://id.biodiversity.org.au/node/apni/2913645   \n",
       "1  https://id.biodiversity.org.au/taxon/apni/5128...   \n",
       "2   https://id.biodiversity.org.au/node/apni/2898873   \n",
       "3                                        NZOR-6-1194   \n",
       "4   https://id.biodiversity.org.au/node/apni/2902186   \n",
       "\n",
       "                          Scientific Name - original  \\\n",
       "0        Pimelea curviflora var. divergens Threlfall   \n",
       "1  Teucrium junceum (A.Cunn. ex Walp.) Kattari & ...   \n",
       "2              Synoum glandulosum subsp. glandulosum   \n",
       "3                                        Audouinella   \n",
       "4                               Symplocos thwaitesii   \n",
       "\n",
       "  Vernacular name - original                        Scientific Name  \\\n",
       "0                        NaN      Pimelea curviflora var. divergens   \n",
       "1                        NaN                       Teucrium junceum   \n",
       "2         Scentless Rosewood  Synoum glandulosum subsp. glandulosum   \n",
       "3                        NaN                            Audouinella   \n",
       "4             Buff Hazelwood                   Symplocos thwaitesii   \n",
       "\n",
       "   Taxon Rank Vernacular name  Kingdom      Phylum            Class  \\\n",
       "0     variety             NaN  Plantae  Charophyta    Equisetopsida   \n",
       "1     species             NaN  Plantae  Charophyta    Equisetopsida   \n",
       "2  subspecies             NaN  Plantae  Charophyta    Equisetopsida   \n",
       "3       genus             NaN  Plantae  Rhodophyta  Florideophyceae   \n",
       "4     species             NaN  Plantae  Charophyta    Equisetopsida   \n",
       "\n",
       "            Order           Family        Genus               Species  \\\n",
       "0        Malvales    Thymelaeaceae      Pimelea    Pimelea curviflora   \n",
       "1        Lamiales        Lamiaceae     Teucrium      Teucrium junceum   \n",
       "2      Sapindales        Meliaceae       Synoum    Synoum glandulosum   \n",
       "3  Acrochaetiales  Acrochaetiaceae  Audouinella                   NaN   \n",
       "4        Ericales     Symplocaceae    Symplocos  Symplocos thwaitesii   \n",
       "\n",
       "                              Subspecies Data Resource ID  \\\n",
       "0      Pimelea curviflora var. divergens            dr376   \n",
       "1                                    NaN           dr2287   \n",
       "2  Synoum glandulosum subsp. glandulosum            dr368   \n",
       "3                                    NaN           dr2287   \n",
       "4                                    NaN            dr368   \n",
       "\n",
       "          Data Resource Name Institution ID  \\\n",
       "0               MEL AVH data           in50   \n",
       "1                    bri_avh           in42   \n",
       "2  OEH Atlas of NSW Wildlife            NaN   \n",
       "3                    bri_avh           in42   \n",
       "4  OEH Atlas of NSW Wildlife            NaN   \n",
       "\n",
       "                                        Institution Collection ID  \\\n",
       "0          The Royal Botanic Gardens & Domain Trust          co54   \n",
       "1  Queensland Department of Environment and Science          co49   \n",
       "2                                               NaN           NaN   \n",
       "3  Queensland Department of Environment and Science          co49   \n",
       "4                                               NaN           NaN   \n",
       "\n",
       "                              Collection          Licence  \\\n",
       "0  National Herbarium of New South Wales  CC-BY 4.0 (Int)   \n",
       "1                   Queensland Herbarium              NaN   \n",
       "2                                    NaN  CC-BY 4.0 (Int)   \n",
       "3                   Queensland Herbarium              NaN   \n",
       "4                                    NaN  CC-BY 4.0 (Int)   \n",
       "\n",
       "                                 Institution Code  \\\n",
       "0                                             NSW   \n",
       "1                                             BRI   \n",
       "2  NSW Dept of Planning, Industry and Environment   \n",
       "3                                             BRI   \n",
       "4  NSW Dept of Planning, Industry and Environment   \n",
       "\n",
       "                Collection Code  \\\n",
       "0                           NSW   \n",
       "1                      Herbrecs   \n",
       "2  BioNet Atlas of NSW Wildlife   \n",
       "3                      Herbrecs   \n",
       "4  BioNet Atlas of NSW Wildlife   \n",
       "\n",
       "                                           Locality  Latitude - original  \\\n",
       "0                                       Glen Innes.           -29.720000   \n",
       "1                                        SUNDOWN NP           -28.916667   \n",
       "2                                 locality withheld           -30.902514   \n",
       "3  WHITE WATER CK BALLOW DISTRICT (COLL. NO. 742.2)           -28.275000   \n",
       "4                                 locality withheld           -28.977786   \n",
       "\n",
       "   Longitude - original Geodetic datum - original   Latitude   Longitude  \\\n",
       "0            151.720000                       NaN -29.720000  151.720000   \n",
       "1            151.583333                     AGD66 -28.915212  151.584156   \n",
       "2            152.873047                     GDA94 -30.902514  152.873047   \n",
       "3            152.625000                     AGD66 -28.273540  152.625803   \n",
       "4            153.404673                     GDA94 -28.977786  153.404673   \n",
       "\n",
       "   Coordinate Precision  Coordinate Uncertainty in Metres Country - parsed  \\\n",
       "0                   NaN                            5000.0        Australia   \n",
       "1                   NaN                           16000.0        Australia   \n",
       "2                   NaN                              10.0        Australia   \n",
       "3                   NaN                            1600.0        Australia   \n",
       "4                   NaN                             100.0        Australia   \n",
       "\n",
       "    State - parsed Local Government Areas 2011 IMCRA 4 Regions  \\\n",
       "0  New South Wales       Glen Innes Severn (A)             NaN   \n",
       "1       Queensland          Southern Downs (R)             NaN   \n",
       "2  New South Wales                 Kempsey (A)             NaN   \n",
       "3       Queensland              Scenic Rim (R)             NaN   \n",
       "4  New South Wales                 Ballina (A)             NaN   \n",
       "\n",
       "             IBRA 7 Regions  Minimum elevation in meters  \\\n",
       "0    New England Tablelands                          NaN   \n",
       "1                  Nandewar                          NaN   \n",
       "2           NSW North Coast                         15.0   \n",
       "3  South Eastern Queensland                          NaN   \n",
       "4  South Eastern Queensland                          NaN   \n",
       "\n",
       "   Maximum elevation in meters  Minimum depth in meters  \\\n",
       "0                          NaN                      NaN   \n",
       "1                          NaN                      NaN   \n",
       "2                         15.0                      NaN   \n",
       "3                          NaN                      NaN   \n",
       "4                          NaN                      NaN   \n",
       "\n",
       "   Maximum depth in meters Individual count              Collector    Year  \\\n",
       "0                      NaN              NaN              Deane, H.  1885.0   \n",
       "1                      NaN              NaN           Sharpe, P.R.  1985.0   \n",
       "2                      NaN              NaN           OJXK98101602  2016.0   \n",
       "3                      NaN              NaN            Cribb, A.B.  1973.0   \n",
       "4                      NaN              NaN  WESTJ-NR;ODMP1002282N  2006.0   \n",
       "\n",
       "   Month   Day Event Date - parsed Verbatim event date  \\\n",
       "0    4.0   NaN          1885-04-01                 NaN   \n",
       "1    4.0   6.0          1985-04-06          1985-04-06   \n",
       "2    4.0  28.0          2016-04-28                 NaN   \n",
       "3    4.0  21.0          1973-04-21          1973-04-21   \n",
       "4    4.0  10.0          2006-04-10                 NaN   \n",
       "\n",
       "  Basis Of Record - original    Basis Of Record Occurrence status  Sex  \\\n",
       "0          PreservedSpecimen  PreservedSpecimen           present  NaN   \n",
       "1          PreservedSpecimen  PreservedSpecimen           present  NaN   \n",
       "2           HumanObservation   HumanObservation           present  NaN   \n",
       "3          PreservedSpecimen  PreservedSpecimen           present  NaN   \n",
       "4           HumanObservation   HumanObservation           present  NaN   \n",
       "\n",
       "  Preparations Outlier for layer  Taxonomic Quality  Location Quality  \\\n",
       "0        sheet               NaN               True              True   \n",
       "1        sheet               NaN               True              True   \n",
       "2          NaN               NaN               True              True   \n",
       "3        sheet               NaN               True              True   \n",
       "4          NaN               NaN               True              True   \n",
       "\n",
       "  CAPAD 2010 Terrestrial  \n",
       "0                    NaN  \n",
       "1                Sundown  \n",
       "2                    NaN  \n",
       "3           Mount Barney  \n",
       "4                Tuckean  "
      ]
     },
     "execution_count": 5,
     "metadata": {},
     "output_type": "execute_result"
    }
   ],
   "source": [
    "data.head()"
   ]
  },
  {
   "cell_type": "code",
   "execution_count": 6,
   "metadata": {},
   "outputs": [],
   "source": [
    "plants = data[(data['Kingdom'] == \"Plantae\")\n",
    "     & (data['Phylum'] != \"Bryophyta\") \n",
    "     & (data['Phylum'] != \"Anthocerotophyta\") \n",
    "     & (data['Phylum'] != \"Marchantiophyta\") \n",
    "     & (data['Phylum'] != \"Rhodophyta\")]"
   ]
  },
  {
   "cell_type": "code",
   "execution_count": 7,
   "metadata": {},
   "outputs": [
    {
     "data": {
      "text/plain": [
       "(1204225, 58)"
      ]
     },
     "execution_count": 7,
     "metadata": {},
     "output_type": "execute_result"
    }
   ],
   "source": [
    "plants.shape"
   ]
  },
  {
   "cell_type": "code",
   "execution_count": 8,
   "metadata": {},
   "outputs": [],
   "source": [
    "# 7567 unique species here so far"
   ]
  },
  {
   "cell_type": "code",
   "execution_count": 9,
   "metadata": {},
   "outputs": [
    {
     "data": {
      "text/plain": [
       "7567"
      ]
     },
     "execution_count": 9,
     "metadata": {},
     "output_type": "execute_result"
    }
   ],
   "source": [
    "plants.Species.nunique()"
   ]
  },
  {
   "cell_type": "code",
   "execution_count": 10,
   "metadata": {},
   "outputs": [],
   "source": [
    "species_in_study_area = plants.Species.unique().tolist()"
   ]
  },
  {
   "cell_type": "code",
   "execution_count": 11,
   "metadata": {},
   "outputs": [],
   "source": [
    "# make into dataframe"
   ]
  },
  {
   "cell_type": "code",
   "execution_count": 12,
   "metadata": {},
   "outputs": [],
   "source": [
    "species_in_study_area_df = pd.DataFrame(species_in_study_area, columns=['Species'])"
   ]
  },
  {
   "cell_type": "code",
   "execution_count": 13,
   "metadata": {},
   "outputs": [],
   "source": [
    "# export the names of species in sizeable chunks to search in ALA again, but this time for ALL OF AUSTRALIA to get records. \n",
    "# species are split into lists of 2000 because the download file will be enormous if i did it all at once and ALA will freeze."
   ]
  },
  {
   "cell_type": "code",
   "execution_count": 14,
   "metadata": {},
   "outputs": [],
   "source": [
    "species_in_study_area_df[0:2000].to_csv('./1.csv')\n",
    "species_in_study_area_df[2001:4000].to_csv('./2.csv')\n",
    "species_in_study_area_df[4001:6000].to_csv('./3.csv')\n",
    "species_in_study_area_df[6001:7568].to_csv('./4.csv')\n"
   ]
  },
  {
   "cell_type": "code",
   "execution_count": 15,
   "metadata": {},
   "outputs": [
    {
     "name": "stderr",
     "output_type": "stream",
     "text": [
      "/Users/lilly/opt/anaconda3/lib/python3.7/site-packages/IPython/core/interactiveshell.py:3146: DtypeWarning: Columns (26,27) have mixed types.Specify dtype option on import or set low_memory=False.\n",
      "  interactivity=interactivity, compiler=compiler, result=result)\n"
     ]
    }
   ],
   "source": [
    "# import the downloaded records again using pandas.\n",
    "one = pd.read_csv('./v4-init-29-7/one.csv')\n",
    "two = pd.read_csv('./v4-init-29-7/two.csv')\n",
    "three = pd.read_csv('./v4-init-29-7/three.csv')\n",
    "four = pd.read_csv('./v4-init-29-7/four.csv')"
   ]
  },
  {
   "cell_type": "code",
   "execution_count": 16,
   "metadata": {},
   "outputs": [],
   "source": [
    "# subset to only the columns needed to make it a smaller dataframe to work with\n",
    "one = one[['Species', 'Latitude', 'Longitude', 'Coordinate Uncertainty in Metres', 'Year' , 'Occurrence status']]\n",
    "two = two[['Species', 'Latitude', 'Longitude', 'Coordinate Uncertainty in Metres', 'Year' , 'Occurrence status']]\n",
    "three = three[['Species', 'Latitude', 'Longitude', 'Coordinate Uncertainty in Metres', 'Year' , 'Occurrence status']]\n",
    "four = four[['Species', 'Latitude', 'Longitude', 'Coordinate Uncertainty in Metres', 'Year' , 'Occurrence status']]"
   ]
  },
  {
   "cell_type": "code",
   "execution_count": 17,
   "metadata": {},
   "outputs": [],
   "source": [
    "# concatenate data\n",
    "new_data = pd.concat([one, two, three, four])"
   ]
  },
  {
   "cell_type": "code",
   "execution_count": 18,
   "metadata": {},
   "outputs": [
    {
     "data": {
      "text/plain": [
       "(10698220, 6)"
      ]
     },
     "execution_count": 18,
     "metadata": {},
     "output_type": "execute_result"
    }
   ],
   "source": [
    "new_data.shape"
   ]
  },
  {
   "cell_type": "code",
   "execution_count": 19,
   "metadata": {},
   "outputs": [],
   "source": [
    "# group by species and find max and min latitudes\n",
    "max_latitude = new_data.groupby(['Species'])['Latitude'].transform(max)\n",
    "new_data['maxlat'] = max_latitude\n",
    "min_latitude = new_data.groupby(['Species'])['Latitude'].transform(min)\n",
    "new_data['minlat'] = min_latitude"
   ]
  },
  {
   "cell_type": "code",
   "execution_count": 20,
   "metadata": {},
   "outputs": [
    {
     "data": {
      "text/plain": [
       "0         -29.403611\n",
       "1          21.133333\n",
       "2         -17.469450\n",
       "3         -22.583158\n",
       "4          31.001546\n",
       "             ...    \n",
       "1152022   -10.123509\n",
       "1152023    -5.216700\n",
       "1152024    59.970000\n",
       "1152025    30.333333\n",
       "1152026    15.551667\n",
       "Name: maxlat, Length: 10698220, dtype: float64"
      ]
     },
     "execution_count": 20,
     "metadata": {},
     "output_type": "execute_result"
    }
   ],
   "source": [
    "new_data.maxlat"
   ]
  },
  {
   "cell_type": "code",
   "execution_count": 21,
   "metadata": {},
   "outputs": [],
   "source": [
    "# occurence data needs to be species that have entire distribution between -27 and -31, so subset data as follows:\n",
    "oc_data = new_data[(new_data['maxlat'] <= -27) & (new_data['maxlat'] >= -31) & (new_data['minlat'] >= -31) & (new_data['minlat'] <= -27)]"
   ]
  },
  {
   "cell_type": "code",
   "execution_count": 22,
   "metadata": {},
   "outputs": [],
   "source": [
    "species_list = pd.DataFrame(oc_data.Species.value_counts())"
   ]
  },
  {
   "cell_type": "code",
   "execution_count": 23,
   "metadata": {},
   "outputs": [],
   "source": [
    "## export species list to csv file for ease of access \n",
    "## this is now a list of species with distributions only in study area. \n",
    "# species_list.to_csv('./species-list-29-07.csv', header=True)"
   ]
  },
  {
   "cell_type": "code",
   "execution_count": 24,
   "metadata": {},
   "outputs": [
    {
     "data": {
      "text/html": [
       "<div>\n",
       "<style scoped>\n",
       "    .dataframe tbody tr th:only-of-type {\n",
       "        vertical-align: middle;\n",
       "    }\n",
       "\n",
       "    .dataframe tbody tr th {\n",
       "        vertical-align: top;\n",
       "    }\n",
       "\n",
       "    .dataframe thead th {\n",
       "        text-align: right;\n",
       "    }\n",
       "</style>\n",
       "<table border=\"1\" class=\"dataframe\">\n",
       "  <thead>\n",
       "    <tr style=\"text-align: right;\">\n",
       "      <th></th>\n",
       "      <th>Species</th>\n",
       "    </tr>\n",
       "  </thead>\n",
       "  <tbody>\n",
       "    <tr>\n",
       "      <th>Angophora robur</th>\n",
       "      <td>1049</td>\n",
       "    </tr>\n",
       "    <tr>\n",
       "      <th>Grevillea rhizomatosa</th>\n",
       "      <td>921</td>\n",
       "    </tr>\n",
       "    <tr>\n",
       "      <th>Desmodium acanthocladum</th>\n",
       "      <td>474</td>\n",
       "    </tr>\n",
       "    <tr>\n",
       "      <th>Triunia youngiana</th>\n",
       "      <td>428</td>\n",
       "    </tr>\n",
       "    <tr>\n",
       "      <th>Symplocos baeuerlenii</th>\n",
       "      <td>421</td>\n",
       "    </tr>\n",
       "    <tr>\n",
       "      <th>...</th>\n",
       "      <td>...</td>\n",
       "    </tr>\n",
       "    <tr>\n",
       "      <th>Bauhinia yunnanensis</th>\n",
       "      <td>1</td>\n",
       "    </tr>\n",
       "    <tr>\n",
       "      <th>Cladonia floerkiana</th>\n",
       "      <td>1</td>\n",
       "    </tr>\n",
       "    <tr>\n",
       "      <th>Olearia incana</th>\n",
       "      <td>1</td>\n",
       "    </tr>\n",
       "    <tr>\n",
       "      <th>Xanthium canescens</th>\n",
       "      <td>1</td>\n",
       "    </tr>\n",
       "    <tr>\n",
       "      <th>Eucalyptus laseronii</th>\n",
       "      <td>1</td>\n",
       "    </tr>\n",
       "  </tbody>\n",
       "</table>\n",
       "<p>275 rows × 1 columns</p>\n",
       "</div>"
      ],
      "text/plain": [
       "                         Species\n",
       "Angophora robur             1049\n",
       "Grevillea rhizomatosa        921\n",
       "Desmodium acanthocladum      474\n",
       "Triunia youngiana            428\n",
       "Symplocos baeuerlenii        421\n",
       "...                          ...\n",
       "Bauhinia yunnanensis           1\n",
       "Cladonia floerkiana            1\n",
       "Olearia incana                 1\n",
       "Xanthium canescens             1\n",
       "Eucalyptus laseronii           1\n",
       "\n",
       "[275 rows x 1 columns]"
      ]
     },
     "execution_count": 24,
     "metadata": {},
     "output_type": "execute_result"
    }
   ],
   "source": [
    "species_list"
   ]
  },
  {
   "cell_type": "code",
   "execution_count": 25,
   "metadata": {},
   "outputs": [],
   "source": [
    "# Here, because it took me a couple of days to do everything from the top, i downloaded the records again from ALA because\n",
    "# ALA is constantly being updated and i wanted the most up-to-date records i could get. "
   ]
  },
  {
   "cell_type": "code",
   "execution_count": 26,
   "metadata": {},
   "outputs": [],
   "source": [
    "five = pd.read_csv('./v4-init-29-7/five.csv')"
   ]
  },
  {
   "cell_type": "code",
   "execution_count": 27,
   "metadata": {},
   "outputs": [
    {
     "data": {
      "text/plain": [
       "Index(['Record ID', 'Catalogue Number', 'Taxon Concept GUID',\n",
       "       'Scientific Name - original', 'Vernacular name - original',\n",
       "       'Scientific Name', 'Taxon Rank', 'Vernacular name', 'Kingdom', 'Phylum',\n",
       "       'Class', 'Order', 'Family', 'Genus', 'Species', 'Subspecies',\n",
       "       'Data Resource ID', 'Data Resource Name', 'Institution ID',\n",
       "       'Institution', 'Collection ID', 'Collection', 'Licence',\n",
       "       'Institution Code', 'Collection Code', 'Locality',\n",
       "       'Latitude - original', 'Longitude - original',\n",
       "       'Geodetic datum - original', 'Latitude', 'Longitude',\n",
       "       'Coordinate Precision', 'Coordinate Uncertainty in Metres',\n",
       "       'Country - parsed', 'State - parsed', 'Local Government Areas 2011',\n",
       "       'IMCRA 4 Regions', 'IBRA 7 Regions', 'Minimum elevation in meters',\n",
       "       'Maximum elevation in meters', 'Minimum depth in meters',\n",
       "       'Maximum depth in meters', 'Individual count', 'Collector', 'Year',\n",
       "       'Month', 'Day', 'Event Date - parsed', 'Verbatim event date',\n",
       "       'Basis Of Record - original', 'Basis Of Record', 'Occurrence status',\n",
       "       'Sex', 'Preparations', 'Outlier for layer', 'Taxonomic Quality',\n",
       "       'Location Quality'],\n",
       "      dtype='object')"
      ]
     },
     "execution_count": 27,
     "metadata": {},
     "output_type": "execute_result"
    }
   ],
   "source": [
    "five.columns"
   ]
  },
  {
   "cell_type": "code",
   "execution_count": 28,
   "metadata": {},
   "outputs": [],
   "source": [
    "five = five[['Species', 'Latitude', 'Longitude', 'Coordinate Uncertainty in Metres', 'Year' , 'Occurrence status']]"
   ]
  },
  {
   "cell_type": "code",
   "execution_count": 29,
   "metadata": {},
   "outputs": [],
   "source": [
    "# i did this again just to be sure that no species were added that lied outside the latitude range i wanted in the final data.\n",
    "# it looks like since the last record download, some species were recorded to be outside the range i wanted, so there\n",
    "# are fewer species here than before, which is expected beacuse i'm working from a live database.\n",
    "# results will be accurate only to 29-07-20. \n",
    "\n",
    "five['maxlat'] = five.groupby(['Species'])['Latitude'].transform(max)\n",
    "five['minlat'] = five.groupby(['Species'])['Latitude'].transform(min)"
   ]
  },
  {
   "cell_type": "code",
   "execution_count": 30,
   "metadata": {
    "scrolled": true
   },
   "outputs": [],
   "source": [
    "five_oc_data = five[(five['maxlat'] <= -27.) \n",
    "                    & (five['maxlat'] >= -31.) \n",
    "                    & (five['minlat'] >= -31.) \n",
    "                    & (five['minlat'] <= -27.)]"
   ]
  },
  {
   "cell_type": "code",
   "execution_count": 31,
   "metadata": {},
   "outputs": [
    {
     "data": {
      "text/plain": [
       "261"
      ]
     },
     "execution_count": 31,
     "metadata": {},
     "output_type": "execute_result"
    }
   ],
   "source": [
    "five_oc_data.Species.nunique()"
   ]
  },
  {
   "cell_type": "code",
   "execution_count": 32,
   "metadata": {},
   "outputs": [],
   "source": [
    "five_oc_data.to_csv('./oc-data-wna-values-29-07')"
   ]
  },
  {
   "cell_type": "code",
   "execution_count": 33,
   "metadata": {},
   "outputs": [
    {
     "data": {
      "text/plain": [
       "<AxesSubplot:>"
      ]
     },
     "execution_count": 33,
     "metadata": {},
     "output_type": "execute_result"
    },
    {
     "data": {
      "image/png": "[encoded data removed]",
      "text/plain": [
       "<Figure size 1800x720 with 2 Axes>"
      ]
     },
     "metadata": {
      "needs_background": "light"
     },
     "output_type": "display_data"
    }
   ],
   "source": [
    "import missingno as msno\n",
    "msno.matrix(five_oc_data)"
   ]
  },
  {
   "cell_type": "code",
   "execution_count": 34,
   "metadata": {},
   "outputs": [],
   "source": [
    "oc_data = five_oc_data.dropna()"
   ]
  },
  {
   "cell_type": "code",
   "execution_count": 35,
   "metadata": {},
   "outputs": [
    {
     "data": {
      "text/plain": [
       "(14124, 8)"
      ]
     },
     "execution_count": 35,
     "metadata": {},
     "output_type": "execute_result"
    }
   ],
   "source": [
    "# filter to less than 1km coordiante uncerntainty\n",
    "less1km = oc_data[(oc_data['Coordinate Uncertainty in Metres'] <= 1000)]\n",
    "less1km.shape"
   ]
  },
  {
   "cell_type": "code",
   "execution_count": 36,
   "metadata": {},
   "outputs": [
    {
     "name": "stderr",
     "output_type": "stream",
     "text": [
      "/Users/lilly/opt/anaconda3/lib/python3.7/site-packages/ipykernel_launcher.py:2: SettingWithCopyWarning: \n",
      "A value is trying to be set on a copy of a slice from a DataFrame.\n",
      "Try using .loc[row_indexer,col_indexer] = value instead\n",
      "\n",
      "See the caveats in the documentation: https://pandas.pydata.org/pandas-docs/stable/user_guide/indexing.html#returning-a-view-versus-a-copy\n",
      "  \n"
     ]
    }
   ],
   "source": [
    "# count number of records for each species\n",
    "less1km['record_count'] = less1km.groupby(['Species'])['Latitude'].transform('count')"
   ]
  },
  {
   "cell_type": "code",
   "execution_count": 37,
   "metadata": {},
   "outputs": [],
   "source": [
    "# filter to only species with greater than 30 records\n",
    "more30records = less1km[(less1km['record_count'] >= 30)]"
   ]
  },
  {
   "cell_type": "code",
   "execution_count": 38,
   "metadata": {},
   "outputs": [
    {
     "data": {
      "text/plain": [
       "81"
      ]
     },
     "execution_count": 38,
     "metadata": {},
     "output_type": "execute_result"
    }
   ],
   "source": [
    "# 81 species left at the end\n",
    "more30records.Species.nunique()"
   ]
  },
  {
   "cell_type": "code",
   "execution_count": 39,
   "metadata": {
    "scrolled": true
   },
   "outputs": [
    {
     "data": {
      "text/html": [
       "<div>\n",
       "<style scoped>\n",
       "    .dataframe tbody tr th:only-of-type {\n",
       "        vertical-align: middle;\n",
       "    }\n",
       "\n",
       "    .dataframe tbody tr th {\n",
       "        vertical-align: top;\n",
       "    }\n",
       "\n",
       "    .dataframe thead th {\n",
       "        text-align: right;\n",
       "    }\n",
       "</style>\n",
       "<table border=\"1\" class=\"dataframe\">\n",
       "  <thead>\n",
       "    <tr style=\"text-align: right;\">\n",
       "      <th></th>\n",
       "      <th>Species</th>\n",
       "      <th>record_count</th>\n",
       "    </tr>\n",
       "  </thead>\n",
       "  <tbody>\n",
       "    <tr>\n",
       "      <th>0</th>\n",
       "      <td>Acacia baeuerlenii</td>\n",
       "      <td>79</td>\n",
       "    </tr>\n",
       "    <tr>\n",
       "      <th>1</th>\n",
       "      <td>Acacia beadleana</td>\n",
       "      <td>30</td>\n",
       "    </tr>\n",
       "    <tr>\n",
       "      <th>2</th>\n",
       "      <td>Acacia floydii</td>\n",
       "      <td>56</td>\n",
       "    </tr>\n",
       "    <tr>\n",
       "      <th>3</th>\n",
       "      <td>Acacia macnuttiana</td>\n",
       "      <td>98</td>\n",
       "    </tr>\n",
       "    <tr>\n",
       "      <th>4</th>\n",
       "      <td>Acacia ruppii</td>\n",
       "      <td>252</td>\n",
       "    </tr>\n",
       "    <tr>\n",
       "      <th>...</th>\n",
       "      <td>...</td>\n",
       "      <td>...</td>\n",
       "    </tr>\n",
       "    <tr>\n",
       "      <th>76</th>\n",
       "      <td>Triunia youngiana</td>\n",
       "      <td>454</td>\n",
       "    </tr>\n",
       "    <tr>\n",
       "      <th>77</th>\n",
       "      <td>Uromyrtus australis</td>\n",
       "      <td>302</td>\n",
       "    </tr>\n",
       "    <tr>\n",
       "      <th>78</th>\n",
       "      <td>Uromyrtus lamingtonensis</td>\n",
       "      <td>35</td>\n",
       "    </tr>\n",
       "    <tr>\n",
       "      <th>79</th>\n",
       "      <td>Westringia rupicola</td>\n",
       "      <td>37</td>\n",
       "    </tr>\n",
       "    <tr>\n",
       "      <th>80</th>\n",
       "      <td>Zieria hindii</td>\n",
       "      <td>37</td>\n",
       "    </tr>\n",
       "  </tbody>\n",
       "</table>\n",
       "<p>81 rows × 2 columns</p>\n",
       "</div>"
      ],
      "text/plain": [
       "                     Species  record_count\n",
       "0         Acacia baeuerlenii            79\n",
       "1           Acacia beadleana            30\n",
       "2             Acacia floydii            56\n",
       "3         Acacia macnuttiana            98\n",
       "4              Acacia ruppii           252\n",
       "..                       ...           ...\n",
       "76         Triunia youngiana           454\n",
       "77       Uromyrtus australis           302\n",
       "78  Uromyrtus lamingtonensis            35\n",
       "79       Westringia rupicola            37\n",
       "80             Zieria hindii            37\n",
       "\n",
       "[81 rows x 2 columns]"
      ]
     },
     "execution_count": 39,
     "metadata": {},
     "output_type": "execute_result"
    }
   ],
   "source": [
    "finalspecieslist = more30records.groupby(by=['Species', 'record_count'], as_index=False).first()[['Species', 'record_count']]\n",
    "finalspecieslist\n",
    "## exported final species list\n",
    "# finalspecieslist.to_csv('./final species list 2907.csv')"
   ]
  },
  {
   "cell_type": "code",
   "execution_count": 40,
   "metadata": {
    "scrolled": true
   },
   "outputs": [
    {
     "data": {
      "text/html": [
       "<div>\n",
       "<style scoped>\n",
       "    .dataframe tbody tr th:only-of-type {\n",
       "        vertical-align: middle;\n",
       "    }\n",
       "\n",
       "    .dataframe tbody tr th {\n",
       "        vertical-align: top;\n",
       "    }\n",
       "\n",
       "    .dataframe thead th {\n",
       "        text-align: right;\n",
       "    }\n",
       "</style>\n",
       "<table border=\"1\" class=\"dataframe\">\n",
       "  <thead>\n",
       "    <tr style=\"text-align: right;\">\n",
       "      <th></th>\n",
       "      <th>Species</th>\n",
       "      <th>Latitude</th>\n",
       "      <th>Longitude</th>\n",
       "      <th>Coordinate Uncertainty in Metres</th>\n",
       "      <th>Year</th>\n",
       "      <th>Occurrence status</th>\n",
       "      <th>maxlat</th>\n",
       "      <th>minlat</th>\n",
       "      <th>record_count</th>\n",
       "    </tr>\n",
       "  </thead>\n",
       "  <tbody>\n",
       "    <tr>\n",
       "      <th>1</th>\n",
       "      <td>Uromyrtus australis</td>\n",
       "      <td>-28.562943</td>\n",
       "      <td>153.343073</td>\n",
       "      <td>20.0</td>\n",
       "      <td>2017.0</td>\n",
       "      <td>present</td>\n",
       "      <td>-27.673600</td>\n",
       "      <td>-30.333333</td>\n",
       "      <td>302</td>\n",
       "    </tr>\n",
       "    <tr>\n",
       "      <th>2</th>\n",
       "      <td>Persoonia rufa</td>\n",
       "      <td>-29.627578</td>\n",
       "      <td>151.946924</td>\n",
       "      <td>100.0</td>\n",
       "      <td>1993.0</td>\n",
       "      <td>present</td>\n",
       "      <td>-28.770000</td>\n",
       "      <td>-30.337723</td>\n",
       "      <td>206</td>\n",
       "    </tr>\n",
       "    <tr>\n",
       "      <th>3</th>\n",
       "      <td>Uromyrtus australis</td>\n",
       "      <td>-28.519591</td>\n",
       "      <td>153.352642</td>\n",
       "      <td>20.0</td>\n",
       "      <td>2017.0</td>\n",
       "      <td>present</td>\n",
       "      <td>-27.673600</td>\n",
       "      <td>-30.333333</td>\n",
       "      <td>302</td>\n",
       "    </tr>\n",
       "    <tr>\n",
       "      <th>6</th>\n",
       "      <td>Macrozamia fawcettii</td>\n",
       "      <td>-29.949267</td>\n",
       "      <td>153.237874</td>\n",
       "      <td>100.0</td>\n",
       "      <td>1995.0</td>\n",
       "      <td>present</td>\n",
       "      <td>-28.465081</td>\n",
       "      <td>-30.534991</td>\n",
       "      <td>205</td>\n",
       "    </tr>\n",
       "    <tr>\n",
       "      <th>8</th>\n",
       "      <td>Eucalyptus codonocarpa</td>\n",
       "      <td>-29.528935</td>\n",
       "      <td>152.268375</td>\n",
       "      <td>100.0</td>\n",
       "      <td>1974.0</td>\n",
       "      <td>present</td>\n",
       "      <td>-28.200000</td>\n",
       "      <td>-30.440876</td>\n",
       "      <td>256</td>\n",
       "    </tr>\n",
       "    <tr>\n",
       "      <th>...</th>\n",
       "      <td>...</td>\n",
       "      <td>...</td>\n",
       "      <td>...</td>\n",
       "      <td>...</td>\n",
       "      <td>...</td>\n",
       "      <td>...</td>\n",
       "      <td>...</td>\n",
       "      <td>...</td>\n",
       "      <td>...</td>\n",
       "    </tr>\n",
       "    <tr>\n",
       "      <th>25929</th>\n",
       "      <td>Pimelea cremnophila</td>\n",
       "      <td>-30.919250</td>\n",
       "      <td>151.855274</td>\n",
       "      <td>30.0</td>\n",
       "      <td>2004.0</td>\n",
       "      <td>present</td>\n",
       "      <td>-30.741700</td>\n",
       "      <td>-30.937500</td>\n",
       "      <td>35</td>\n",
       "    </tr>\n",
       "    <tr>\n",
       "      <th>25932</th>\n",
       "      <td>Angophora robur</td>\n",
       "      <td>-29.560438</td>\n",
       "      <td>153.155384</td>\n",
       "      <td>5.0</td>\n",
       "      <td>2014.0</td>\n",
       "      <td>present</td>\n",
       "      <td>-29.442845</td>\n",
       "      <td>-30.095105</td>\n",
       "      <td>1563</td>\n",
       "    </tr>\n",
       "    <tr>\n",
       "      <th>25934</th>\n",
       "      <td>Angophora robur</td>\n",
       "      <td>-29.553127</td>\n",
       "      <td>153.155610</td>\n",
       "      <td>5.0</td>\n",
       "      <td>2014.0</td>\n",
       "      <td>present</td>\n",
       "      <td>-29.442845</td>\n",
       "      <td>-30.095105</td>\n",
       "      <td>1563</td>\n",
       "    </tr>\n",
       "    <tr>\n",
       "      <th>25935</th>\n",
       "      <td>Angophora robur</td>\n",
       "      <td>-29.723018</td>\n",
       "      <td>153.118648</td>\n",
       "      <td>5.0</td>\n",
       "      <td>2014.0</td>\n",
       "      <td>present</td>\n",
       "      <td>-29.442845</td>\n",
       "      <td>-30.095105</td>\n",
       "      <td>1563</td>\n",
       "    </tr>\n",
       "    <tr>\n",
       "      <th>25937</th>\n",
       "      <td>Angophora robur</td>\n",
       "      <td>-29.555295</td>\n",
       "      <td>153.153734</td>\n",
       "      <td>5.0</td>\n",
       "      <td>2014.0</td>\n",
       "      <td>present</td>\n",
       "      <td>-29.442845</td>\n",
       "      <td>-30.095105</td>\n",
       "      <td>1563</td>\n",
       "    </tr>\n",
       "  </tbody>\n",
       "</table>\n",
       "<p>12741 rows × 9 columns</p>\n",
       "</div>"
      ],
      "text/plain": [
       "                      Species   Latitude   Longitude  \\\n",
       "1         Uromyrtus australis -28.562943  153.343073   \n",
       "2              Persoonia rufa -29.627578  151.946924   \n",
       "3         Uromyrtus australis -28.519591  153.352642   \n",
       "6        Macrozamia fawcettii -29.949267  153.237874   \n",
       "8      Eucalyptus codonocarpa -29.528935  152.268375   \n",
       "...                       ...        ...         ...   \n",
       "25929     Pimelea cremnophila -30.919250  151.855274   \n",
       "25932         Angophora robur -29.560438  153.155384   \n",
       "25934         Angophora robur -29.553127  153.155610   \n",
       "25935         Angophora robur -29.723018  153.118648   \n",
       "25937         Angophora robur -29.555295  153.153734   \n",
       "\n",
       "       Coordinate Uncertainty in Metres    Year Occurrence status     maxlat  \\\n",
       "1                                  20.0  2017.0           present -27.673600   \n",
       "2                                 100.0  1993.0           present -28.770000   \n",
       "3                                  20.0  2017.0           present -27.673600   \n",
       "6                                 100.0  1995.0           present -28.465081   \n",
       "8                                 100.0  1974.0           present -28.200000   \n",
       "...                                 ...     ...               ...        ...   \n",
       "25929                              30.0  2004.0           present -30.741700   \n",
       "25932                               5.0  2014.0           present -29.442845   \n",
       "25934                               5.0  2014.0           present -29.442845   \n",
       "25935                               5.0  2014.0           present -29.442845   \n",
       "25937                               5.0  2014.0           present -29.442845   \n",
       "\n",
       "          minlat  record_count  \n",
       "1     -30.333333           302  \n",
       "2     -30.337723           206  \n",
       "3     -30.333333           302  \n",
       "6     -30.534991           205  \n",
       "8     -30.440876           256  \n",
       "...          ...           ...  \n",
       "25929 -30.937500            35  \n",
       "25932 -30.095105          1563  \n",
       "25934 -30.095105          1563  \n",
       "25935 -30.095105          1563  \n",
       "25937 -30.095105          1563  \n",
       "\n",
       "[12741 rows x 9 columns]"
      ]
     },
     "execution_count": 40,
     "metadata": {},
     "output_type": "execute_result"
    }
   ],
   "source": [
    "oc_data = more30records\n",
    "oc_data"
   ]
  },
  {
   "cell_type": "code",
   "execution_count": 41,
   "metadata": {},
   "outputs": [],
   "source": [
    "## exported final occurence data\n",
    "# oc_data.to_csv('./oc-data-29-07.csv')"
   ]
  },
  {
   "cell_type": "code",
   "execution_count": null,
   "metadata": {},
   "outputs": [],
   "source": []
  }
 ],
 "metadata": {
  "kernelspec": {
   "display_name": "Python 3",
   "language": "python",
   "name": "python3"
  },
  "language_info": {
   "codemirror_mode": {
    "name": "ipython",
    "version": 3
   },
   "file_extension": ".py",
   "mimetype": "text/x-python",
   "name": "python",
   "nbconvert_exporter": "python",
   "pygments_lexer": "ipython3",
   "version": "3.7.8"
  }
 },
 "nbformat": 4,
 "nbformat_minor": 4
}
